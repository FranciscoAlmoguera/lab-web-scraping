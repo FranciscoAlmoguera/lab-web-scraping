{
  "nbformat": 4,
  "nbformat_minor": 0,
  "metadata": {
    "colab": {
      "provenance": []
    },
    "kernelspec": {
      "name": "python3",
      "display_name": "Python 3"
    },
    "language_info": {
      "name": "python"
    }
  },
  "cells": [
    {
      "cell_type": "code",
      "execution_count": null,
      "metadata": {
        "id": "oQvjPW9Lu7Ww"
      },
      "outputs": [],
      "source": [
        "\n",
        "\n",
        "import requests\n",
        "from bs4 import BeautifulSoup\n",
        "import pandas as pd\n",
        "\n",
        "def scrape_books(min_rating, max_price):\n",
        "    # Base URL for scraping\n",
        "    base_url = \"http://books.toscrape.com/catalogue/page-{}.html\"\n",
        "\n",
        "    # Prepare a list to hold book data\n",
        "    books_data = []\n",
        "\n",
        "    # Loop through pages\n",
        "    for page in range(1, 6):  # Assuming there are at least 5 pages to scrape\n",
        "        url = base_url.format(page)\n",
        "        response = requests.get(url)\n",
        "        soup = BeautifulSoup(response.content, 'html.parser')\n",
        "\n",
        "        # Find book sections\n",
        "        books = soup.find_all('article', class_='product_pod')\n",
        "\n",
        "        for book in books:\n",
        "            # Get book title\n",
        "            title = book.h3.a['title']\n",
        "            # Get book price\n",
        "            price = float(book.find('p', class_='price_color').text[2:])\n",
        "            # Get availability\n",
        "            availability = book.find('p', class_='instock availability').text.strip()\n",
        "            # Get the star rating - note that the rating class reflects the number of stars\n",
        "            rating = len(book.find('p')['class']) - 1  # subtract 1 because 'star-rating' is also a class\n",
        "\n",
        "            # Only proceed if the book meets the rating and price criteria\n",
        "            if rating >= min_rating and price <= max_price:\n",
        "                # Get UPC (to get this, you would need to visit the product detail page)\n",
        "                detail_link = book.h3.a['href']\n",
        "                detail_url = f\"http://books.toscrape.com/catalogue/{detail_link.split('/')[-2]}/index.html\"\n",
        "                detail_response = requests.get(detail_url)\n",
        "                detail_soup = BeautifulSoup(detail_response.content, 'html.parser')\n",
        "                upc = detail_soup.find('th', text='UPC').find_next_sibling('td').text\n",
        "\n",
        "                # Get Product Description (if available)\n",
        "                description = detail_soup.find('meta', attrs={'name': 'description'})['content'].strip()\n",
        "\n",
        "                # Append the data to the list\n",
        "                books_data.append({\n",
        "                    'UPC': upc,\n",
        "                    'Title': title,\n",
        "                    'Price (£)': price,\n",
        "                    'Rating': rating,\n",
        "                    'Genre': 'Fiction',  # Placeholder for genre; would need to scrape it from detail page similarly\n",
        "                    'Availability': availability,\n",
        "                    'Description': description\n",
        "                })\n",
        "\n",
        "    # Create DataFrame from scraped data\n",
        "    books_df = pd.DataFrame(books_data)\n",
        "    return books_df\n",
        "\n",
        "# Example usage\n",
        "df_books = scrape_books(min_rating=4, max_price=20)\n",
        "print(df_books)"
      ]
    }
  ]
}